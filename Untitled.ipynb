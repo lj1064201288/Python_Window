{
 "cells": [
  {
   "cell_type": "code",
   "execution_count": 12,
   "metadata": {},
   "outputs": [
    {
     "name": "stdout",
     "output_type": "stream",
     "text": [
      "None\n",
      "18\n",
      "I 在做什么\n",
      "None\n"
     ]
    }
   ],
   "source": [
    "class Student():\n",
    "    pass\n",
    "\n",
    "mingyue = Student()\n",
    "\n",
    "class PythonStudent():\n",
    "    name = None\n",
    "    age = 18\n",
    "    course = \"Python\"\n",
    "    def fun(self):\n",
    "        print(\"I 在做什么\")\n",
    "        return None\n",
    "    \n",
    "yueyue = PythonStudent()\n",
    "\n",
    "print(yueyue.name)\n",
    "print(yueyue.age)\n",
    "print(yueyue.fun())\n"
   ]
  }
 ],
 "metadata": {
  "kernelspec": {
   "display_name": "Python 3",
   "language": "python",
   "name": "python3"
  },
  "language_info": {
   "codemirror_mode": {
    "name": "ipython",
    "version": 3
   },
   "file_extension": ".py",
   "mimetype": "text/x-python",
   "name": "python",
   "nbconvert_exporter": "python",
   "pygments_lexer": "ipython3",
   "version": "3.6.4"
  }
 },
 "nbformat": 4,
 "nbformat_minor": 2
}
