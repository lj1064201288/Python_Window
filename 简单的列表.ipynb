{
 "cells": [
  {
   "cell_type": "code",
   "execution_count": 9,
   "metadata": {},
   "outputs": [
    {
     "name": "stdout",
     "output_type": "stream",
     "text": [
      "['trek', 'cannondale', 'redline', 'specialized']\n",
      "trek\n",
      "Trek\n",
      "cannondale\n",
      "specialized\n",
      "Specialized\n"
     ]
    }
   ],
   "source": [
    "#访问列表元素\n",
    "bicycles = ['trek','cannondale','redline','specialized']\n",
    "print(bicycles)\n",
    "print(bicycles[0])\n",
    "print(bicycles[0].title())\n",
    "print(bicycles[1])\n",
    "print(bicycles[3])\n",
    "print(bicycles[-1].title())"
   ]
  },
  {
   "cell_type": "code",
   "execution_count": 12,
   "metadata": {},
   "outputs": [
    {
     "name": "stdout",
     "output_type": "stream",
     "text": [
      "My first bicycles was a Trek.\n"
     ]
    }
   ],
   "source": [
    "#访使用列表中的各个值\n",
    "bicycles = ['trek','cannondale','redline','specialized']\n",
    "message = \"My first bicycles was a \" + bicycles[0].title()+\".\"\n",
    "print(message)"
   ]
  },
  {
   "cell_type": "code",
   "execution_count": 19,
   "metadata": {},
   "outputs": [
    {
     "name": "stdout",
     "output_type": "stream",
     "text": [
      "贺海川\n",
      "罗明星\n",
      "唐凯\n",
      "黄志强\n",
      "杨杰军\n",
      "阳志波\n",
      "贺海川\n",
      "罗明星\n",
      "唐凯\n",
      "黄志强\n",
      "杨杰军\n",
      "阳志波\n",
      "Hello!贺海川\n",
      "Hello!罗明星\n",
      "Hello!唐凯\n",
      "Hello!黄志强\n",
      "Hello!杨杰军\n",
      "Hello!阳志波\n"
     ]
    }
   ],
   "source": [
    "#练习题1\n",
    "names = ['贺海川','罗明星','唐凯','黄志强','杨杰军','阳志波']\n",
    "print(names[0])\n",
    "print(names[1])\n",
    "print(names[2])\n",
    "print(names[3])\n",
    "print(names[4])\n",
    "print(names[5])\n",
    "sum = 0\n",
    "for a in names:\n",
    "    print(names[sum])\n",
    "    sum += 1\n",
    "print(\"Hello!\" + names[0])\n",
    "print(\"Hello!\" + names[1])\n",
    "print(\"Hello!\" + names[2])\n",
    "print(\"Hello!\" + names[3])\n",
    "print(\"Hello!\" + names[4])\n",
    "print(\"Hello!\" + names[5])"
   ]
  },
  {
   "cell_type": "code",
   "execution_count": 35,
   "metadata": {},
   "outputs": [
    {
     "name": "stdout",
     "output_type": "stream",
     "text": [
      "['honda', 'yamaha', 'suzuki']\n",
      "['ducati', 'yamaha', 'suzuki']\n",
      "['honda', 'yamaha', 'suzuki']\n",
      "['honda', 'yamaha', 'suzuki', 'ducati']\n",
      "['honda', 'yamaha', 'suzuki']\n",
      "['ducati', 'honda', 'yamaha', 'suzuki']\n",
      "['honda', 'yamaha', 'suzuki']\n",
      "['yamaha', 'suzuki']\n",
      "['honda', 'yamaha', 'suzuki']\n",
      "['honda', 'suzuki']\n",
      "['honda', 'yamaha', 'suzuki']\n",
      "['honda', 'yamaha']\n",
      "suzuki\n",
      "The last motorcycle I would was a Suzuki.\n",
      "The first motorcycle I would was a Honda.\n",
      "['honda', 'yamaha', 'suzuki', 'ducati']\n",
      "['honda', 'yamaha', 'suzuki']\n",
      "['honda', 'yamaha', 'suzuki', 'ducati']\n",
      "['honda', 'yamaha', 'suzuki']\n",
      "\n",
      "A Ducati is too expensive for me.\n"
     ]
    }
   ],
   "source": [
    "#修改列表的元素\n",
    "motorcycles = ['honda','yamaha','suzuki']\n",
    "print(motorcycles)\n",
    "\n",
    "motorcycles[0] = 'ducati'\n",
    "print(motorcycles)\n",
    "#在列表中添加元素\n",
    "# 1.在列表末尾添加元素\n",
    "motorcycles = ['honda','yamaha','suzuki']\n",
    "print(motorcycles)\n",
    "motorcycles.append('ducati')\n",
    "print(motorcycles)\n",
    "motorcycles = []\n",
    "motorcycles.append('honda')\n",
    "motorcycles.append('yamaha')\n",
    "motorcycles.append('suzuki')\n",
    "print(motorcycles)\n",
    "#在列表中插入元素\n",
    "motorcycles = ['honda','yamaha','suzuki']\n",
    "motorcycles.insert(0,'ducati')\n",
    "print(motorcycles)\n",
    "#在列表中删除元素\n",
    "motorcycles = ['honda','yamaha','suzuki']\n",
    "print(motorcycles)\n",
    "del motorcycles[0]\n",
    "print(motorcycles)\n",
    "motorcycles = ['honda','yamaha','suzuki']\n",
    "print(motorcycles)\n",
    "del motorcycles[1]\n",
    "print(motorcycles)\n",
    "#使用pop()删除元素\n",
    "motorcycles = ['honda','yamaha','suzuki']\n",
    "print(motorcycles)\n",
    "popped_motorcycles = motorcycles.pop()\n",
    "print(motorcycles)\n",
    "print(popped_motorcycles)\n",
    "motorcycles = ['honda','yamaha','suzuki']\n",
    "last_owned = motorcycles.pop()\n",
    "print(\"The last motorcycle I would was a \" + last_owned.title() + '.')\n",
    "motorcycles = ['honda','yamaha','suzuki']\n",
    "first_owned = motorcycles.pop(0)\n",
    "print('The first motorcycle I would was a ' + first_owned.title() + '.')\n",
    "#根据值删除元素\n",
    "motorcycles = ['honda','yamaha','suzuki','ducati']\n",
    "print(motorcycles)\n",
    "motorcycles.remove('ducati')\n",
    "print(motorcycles)\n",
    "motorcycles = ['honda','yamaha','suzuki','ducati']\n",
    "print(motorcycles)\n",
    "too_expensive = 'ducati'\n",
    "motorcycles.remove(too_expensive)\n",
    "print(motorcycles)\n",
    "print(\"\\nA \" + too_expensive.title() + \" is too expensive for me.\")"
   ]
  },
  {
   "cell_type": "code",
   "execution_count": 97,
   "metadata": {},
   "outputs": [
    {
     "name": "stdout",
     "output_type": "stream",
     "text": [
      "唐凯,贺海川,杨洁军，这个周末邀请你来我这边吃饭！\n",
      "杨洁军有事，周末来不了了!\n",
      "唐凯,贺海川,黄志强，这个周末邀请你来我这边吃饭！\n",
      "我这边找到一个更大的餐桌，可以坐6个人\n",
      "黄志强,这个周末邀请你来我这边吃饭！\n",
      "唐凯,这个周末邀请你来我这边吃饭！\n",
      "罗明星,这个周末邀请你来我这边吃饭！\n",
      "贺海川,这个周末邀请你来我这边吃饭！\n",
      "黄志强,这个周末邀请你来我这边吃饭！\n",
      "张敏,这个周末邀请你来我这边吃饭！\n",
      "['黄志强', '唐凯', '罗明星', '贺海川', '黄志强', '张敏']\n",
      "不好意思，这边要爽约，只能来两个人了\n",
      "黄志强非常抱歉，这次要爽约了，周末不能来了\n",
      "唐凯非常抱歉，这次要爽约了，周末不能来了\n",
      "罗明星非常抱歉，这次要爽约了，周末不能来了\n",
      "贺海川非常抱歉，这次要爽约了，周末不能来了\n",
      "['杨洁军', '张敏']\n",
      "杨洁军这个周末邀请你来我这里吃饭!\n",
      "张敏这个周末邀请你来我这里吃饭!\n",
      "[]\n"
     ]
    }
   ],
   "source": [
    "# 练习题2\n",
    "pople = ['唐凯','贺海川','杨洁军']\n",
    "len(pople)\n",
    "print(pople[0] + \",\" + pople[1] +  \",\" + pople[2] + \"，这个周末邀请你来我这边吃饭！\")\n",
    "print(\"杨洁军有事，周末来不了了!\")\n",
    "name = '黄志强'\n",
    "pople[2] = name\n",
    "print(pople[0] + \",\" + pople[1] +  \",\" + pople[2] + \"，这个周末邀请你来我这边吃饭！\")\n",
    "print(\"我这边找到一个更大的餐桌，可以坐6个人\")\n",
    "pople.insert(0,'黄志强')\n",
    "pople.insert(2,'罗明星')\n",
    "pople.append('张敏')\n",
    "print(pople[0] + \",这个周末邀请你来我这边吃饭！\")\n",
    "print(pople[1] + \",这个周末邀请你来我这边吃饭！\")\n",
    "print(pople[2] + \",这个周末邀请你来我这边吃饭！\")\n",
    "print(pople[3] + \",这个周末邀请你来我这边吃饭！\")\n",
    "print(pople[4] + \",这个周末邀请你来我这边吃饭！\")\n",
    "print(pople[5] + \",这个周末邀请你来我这边吃饭！\")\n",
    "print(pople)\n",
    "pople = ['黄志强', '唐凯', '罗明星', '贺海川', '杨洁军', '张敏']\n",
    "print(\"不好意思，这边要爽约，只能来两个人了\")\n",
    "name_1 = pople.pop(0)\n",
    "print(name_1 + \"非常抱歉，这次要爽约了，周末不能来了\")\n",
    "name_2 = pople.pop(0)\n",
    "print(name_2 + \"非常抱歉，这次要爽约了，周末不能来了\")\n",
    "name_3 = pople.pop(0)\n",
    "print(name_3 + \"非常抱歉，这次要爽约了，周末不能来了\")\n",
    "name_4 = pople.pop(0)\n",
    "print(name_4 + \"非常抱歉，这次要爽约了，周末不能来了\")\n",
    "print(pople)\n",
    "len(pople)\n",
    "print(pople[0] + \"这个周末邀请你来我这里吃饭!\")\n",
    "print(pople[1] + \"这个周末邀请你来我这里吃饭!\")\n",
    "del pople[0]\n",
    "del pople[0]\n",
    "print(pople)"
   ]
  },
  {
   "cell_type": "code",
   "execution_count": 77,
   "metadata": {},
   "outputs": [
    {
     "name": "stdout",
     "output_type": "stream",
     "text": [
      "['audi', 'bmw', 'subaru', 'toyota']\n",
      "['toyota', 'subaru', 'bmw', 'audi']\n",
      "Here is the original list:\n",
      "['bmw', 'audi', 'toyota', 'subaru']\n",
      "\n",
      "Here is the sorted list:\n",
      "['audi', 'bmw', 'subaru', 'toyota']\n",
      "\n",
      "Here is the original list again:\n",
      "['bmw', 'audi', 'toyota', 'subaru']\n",
      "\n",
      "['bmw', 'audi', 'toyota', 'subaru']\n",
      "['subaru', 'toyota', 'audi', 'bmw']\n"
     ]
    },
    {
     "data": {
      "text/plain": [
       "4"
      ]
     },
     "execution_count": 77,
     "metadata": {},
     "output_type": "execute_result"
    }
   ],
   "source": [
    "# 组织列表\n",
    "# 1.永久性排序\n",
    "cars = ['bmw','audi','toyota','subaru']\n",
    "cars.sort()\n",
    "print(cars)\n",
    "cars = ['bmw','audi','toyota','subaru']\n",
    "cars.sort(reverse = True)\n",
    "print(cars)\n",
    "# 2.临时排序\n",
    "cars = ['bmw','audi','toyota','subaru']\n",
    "print(\"Here is the original list:\")\n",
    "print(cars)\n",
    "\n",
    "print(\"\\nHere is the sorted list:\")\n",
    "print(sorted(cars))\n",
    "\n",
    "print(\"\\nHere is the original list again:\")\n",
    "print(cars)\n",
    "\n",
    "# 3.倒着打印列表\n",
    "\n",
    "cars = ['bmw','audi','toyota','subaru']\n",
    "print()\n",
    "print(cars)\n",
    "cars.reverse()\n",
    "print(cars)\n",
    "len(cars)"
   ]
  },
  {
   "cell_type": "code",
   "execution_count": 93,
   "metadata": {},
   "outputs": [
    {
     "name": "stdout",
     "output_type": "stream",
     "text": [
      "['张家界', '巴黎', '夏威夷', '加拿大', '迈阿密']\n",
      "['加拿大', '夏威夷', '巴黎', '张家界', '迈阿密']\n",
      "['张家界', '巴黎', '夏威夷', '加拿大', '迈阿密']\n",
      "['迈阿密', '张家界', '巴黎', '夏威夷', '加拿大']\n",
      "['张家界', '巴黎', '夏威夷', '加拿大', '迈阿密']\n",
      "['迈阿密', '加拿大', '夏威夷', '巴黎', '张家界']\n",
      "['张家界', '巴黎', '夏威夷', '加拿大', '迈阿密']\n",
      "['加拿大', '夏威夷', '巴黎', '张家界', '迈阿密']\n",
      "['加拿大', '夏威夷', '巴黎', '张家界', '迈阿密']\n"
     ]
    }
   ],
   "source": [
    "# 练习题3\n",
    "add = ['张家界','巴黎','夏威夷','加拿大','迈阿密']\n",
    "print(add)\n",
    "print(sorted(add))\n",
    "print(add)\n",
    "print(sorted(add,reverse=True))\n",
    "print(add)\n",
    "add.reverse()\n",
    "print(add)\n",
    "add.reverse()\n",
    "print(add)\n",
    "add.sort()\n",
    "print(add)\n",
    "add.sort()\n",
    "print(add)\n"
   ]
  },
  {
   "cell_type": "code",
   "execution_count": 114,
   "metadata": {},
   "outputs": [
    {
     "name": "stdout",
     "output_type": "stream",
     "text": [
      "5050\n"
     ]
    }
   ],
   "source": [
    "# C语言的例子转换Python\n",
    "sum = 0\n",
    "num = 0\n",
    "for a in range(sum,101):\n",
    "    num = sum+num\n",
    "    sum+=1\n",
    "print(num)"
   ]
  }
 ],
 "metadata": {
  "kernelspec": {
   "display_name": "Python 3",
   "language": "python",
   "name": "python3"
  },
  "language_info": {
   "codemirror_mode": {
    "name": "ipython",
    "version": 3
   },
   "file_extension": ".py",
   "mimetype": "text/x-python",
   "name": "python",
   "nbconvert_exporter": "python",
   "pygments_lexer": "ipython3",
   "version": "3.6.4"
  }
 },
 "nbformat": 4,
 "nbformat_minor": 2
}
