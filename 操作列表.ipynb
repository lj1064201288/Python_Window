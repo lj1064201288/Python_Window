{
 "cells": [
  {
   "cell_type": "code",
   "execution_count": 8,
   "metadata": {},
   "outputs": [
    {
     "name": "stdout",
     "output_type": "stream",
     "text": [
      "alice\n",
      "david\n",
      "carolina\n",
      "Alice, that was a gret trick!\n",
      "David, that was a gret trick!\n",
      "Carolina, that was a gret trick!\n",
      "Alice, that was a gret trick!\n",
      "I can't wait to see your next trick, Alice\n",
      "\n",
      "David, that was a gret trick!\n",
      "I can't wait to see your next trick, David\n",
      "\n",
      "Carolina, that was a gret trick!\n",
      "I can't wait to see your next trick, Carolina\n",
      "\n",
      "Thank you, everyone. That was a great maic show!\n",
      "Alice, that was a great trick!\n",
      "David, that was a great trick!\n",
      "Carolina, that was a great trick!\n",
      "I can't wait to see your next trick,Carolina\n",
      "\n"
     ]
    }
   ],
   "source": [
    "#遍历整个列表\n",
    "magicians = ['alice','david','carolina']\n",
    "for magician in magicians:\n",
    "    print(magician)\n",
    "# 深入研究循环\n",
    "magicians = ['alice','david','carolina']\n",
    "for magician in magicians:\n",
    "    print(magician.title() + \", that was a gret trick!\")\n",
    "magicians = ['alice','david','carolina']\n",
    "for magician in magicians:\n",
    "    print(magician.title() + \", that was a gret trick!\")\n",
    "    print(\"I can't wait to see your next trick, \"+ magician.title() + \"\\n\")\n",
    "print(\"Thank you, everyone. That was a great maic show!\")\n",
    "magicians = ['alice','david','carolina']\n",
    "for magician in magicians:\n",
    "    print(magician.title() + \", that was a great trick!\")\n",
    "print(\"I can't wait to see your next trick,\" + magician.title() + \"\\n\")"
   ]
  },
  {
   "cell_type": "code",
   "execution_count": 16,
   "metadata": {},
   "outputs": [
    {
     "name": "stdout",
     "output_type": "stream",
     "text": [
      "banana\n",
      "I like Banana pizza!\n",
      "apple\n",
      "I like Apple pizza!\n",
      "cherry \n",
      "I like Cherry  pizza!\n",
      "I really like Apple pizza\n",
      "dog\n",
      "A dog would make a great pet\n",
      "cat\n",
      "A cat would make a great pet\n",
      "monkey\n",
      "A monkey would make a great pet\n"
     ]
    }
   ],
   "source": [
    "# 练习题1\n",
    "pizzas = ['banana','apple','cherry ']\n",
    "for pizza in pizzas:\n",
    "    print(pizza)\n",
    "    print(\"I like \" + pizza.title() + \" pizza!\")\n",
    "print(\"I really like \" + pizzas[1].title() + \" pizza\")\n",
    "\n",
    "animals = ['dog','cat','monkey']\n",
    "for animal in animals:\n",
    "    print(animal)\n",
    "    print(\"A \" + animal + \" would make a great pet\")"
   ]
  },
  {
   "cell_type": "code",
   "execution_count": 2,
   "metadata": {},
   "outputs": [
    {
     "name": "stdout",
     "output_type": "stream",
     "text": [
      "1\n",
      "2\n",
      "3\n",
      "4\n",
      "[1, 2, 3, 4, 5]\n",
      "[2, 4, 6, 8, 10]\n",
      "[1, 4, 9, 16, 25, 36, 49, 64, 81, 100]\n",
      "[1, 4, 9, 16, 25, 36, 49, 64, 81, 100]\n",
      "0\n",
      "9\n",
      "45\n",
      "[1, 4, 9, 16, 25, 36, 49, 64, 81, 100]\n"
     ]
    }
   ],
   "source": [
    "# 使用函数range()\n",
    "\n",
    "for value in range(1,5):\n",
    "    print(value)\n",
    "numbers = list(range(1,6))\n",
    "print(numbers)\n",
    "even_numbers = list(range(2,11,2))\n",
    "print(even_numbers)\n",
    "\n",
    "squares = []\n",
    "for value in range(1,11):\n",
    "    square = value**2\n",
    "    squares.append(square)\n",
    "print(squares)\n",
    "squares = []\n",
    "for value in range(1,11):\n",
    "    squares.append(value**2)\n",
    "print(squares)\n",
    "\n",
    "numbers = [1,2,3,4,5,6,7,8,9,0]\n",
    "print(min(numbers))\n",
    "print(max(numbers))\n",
    "print(sum(numbers))\n",
    "\n",
    "squares = [value**2 for value in range(1,11)]\n",
    "print(squares)"
   ]
  },
  {
   "cell_type": "code",
   "execution_count": 11,
   "metadata": {},
   "outputs": [
    {
     "name": "stdout",
     "output_type": "stream",
     "text": [
      "1\n",
      "2\n",
      "3\n",
      "4\n",
      "5\n",
      "6\n",
      "7\n",
      "8\n",
      "9\n",
      "10\n",
      "11\n",
      "12\n",
      "13\n",
      "14\n",
      "15\n",
      "16\n",
      "17\n",
      "18\n",
      "19\n",
      "20\n",
      "1\n",
      "2\n",
      "3\n",
      "4\n",
      "5\n",
      "6\n",
      "7\n",
      "8\n",
      "9\n",
      "1\n",
      "3\n",
      "5\n",
      "7\n",
      "9\n",
      "11\n",
      "13\n",
      "15\n",
      "17\n",
      "19\n",
      "3\n",
      "6\n",
      "9\n",
      "12\n",
      "15\n",
      "18\n",
      "21\n",
      "24\n",
      "27\n",
      "30\n",
      "[1, 8, 27, 64, 125, 216, 343, 512, 729, 1000]\n",
      "[1, 8, 27, 64, 125, 216, 343, 512, 729, 1000]\n"
     ]
    }
   ],
   "source": [
    "# 练习题2\n",
    "for numbers in range(1,21):\n",
    "    print(numbers)\n",
    "    \n",
    "numbers = list(range(1,10))\n",
    "for number in numbers:\n",
    "    print(number)\n",
    "    \n",
    "min(numbers)\n",
    "max(numbers)\n",
    "sum(numbers)\n",
    "num = list(range(1,21,2))\n",
    "for number in num:\n",
    "    print(number)\n",
    "num = list(range(3,31,3))\n",
    "for number in num:\n",
    "    print(number)\n",
    "\n",
    "num = [value**3 for value in range(1,11)]\n",
    "print(num)\n",
    "\n",
    "value = [num**3 for num in range(1,11)]\n",
    "print(value)"
   ]
  },
  {
   "cell_type": "code",
   "execution_count": 3,
   "metadata": {},
   "outputs": [
    {
     "name": "stdout",
     "output_type": "stream",
     "text": [
      "['charles', 'martina', 'michael']\n",
      "['martina', 'michael', 'florence']\n",
      "['charles', 'martina', 'michael', 'florence']\n",
      "['michael', 'florence', 'eli']\n",
      "['michael', 'florence', 'eli']\n",
      "Here are the first there players on ma team:\n",
      "Charles\n",
      "Martina\n",
      "Michael\n",
      "My favorite foods are:\n",
      "['pizza', 'falafel', 'carrot cake']\n",
      "\n",
      " friend's favorite foods are:\n",
      "['pizza', 'falafel', 'carrot cake']\n",
      "My favorite foods are:\n",
      "['pizza', 'falafel', 'carrot cake', 'cannoli']\n",
      "\n",
      " friend's favorite foods are:\n",
      "['pizza', 'falafel', 'carrot cake', 'ice cream']\n"
     ]
    }
   ],
   "source": [
    "# 使用列表的一部分\n",
    "# 1.切片\n",
    "players = ['charles', 'martina', 'michael', 'florence','eli']\n",
    "print(players[0:3])\n",
    "print(players[1:4])\n",
    "print(players[:4])\n",
    "print(players[2:])\n",
    "print(players[-3:])\n",
    "# 2.遍历切片\n",
    "players = ['charles', 'martina', 'michael', 'florence','eli']\n",
    "print(\"Here are the first there players on ma team:\")\n",
    "for player in players[:3]:\n",
    "    print(player.title())\n",
    "# 复制列表\n",
    "my_foods = ['pizza','falafel','carrot cake']\n",
    "friend_foods = my_foods[:]\n",
    "\n",
    "print(\"My favorite foods are:\")\n",
    "print(my_foods)\n",
    "\n",
    "print(\"\\n friend's favorite foods are:\")\n",
    "print(friend_foods)\n",
    "my_foods = ['pizza','falafel','carrot cake']\n",
    "friend_foods = my_foods[:]\n",
    "\n",
    "my_foods.append('cannoli')\n",
    "friend_foods.append('ice cream')\n",
    "\n",
    "print(\"My favorite foods are:\")\n",
    "print(my_foods)\n",
    "\n",
    "print(\"\\n friend's favorite foods are:\")\n",
    "print(friend_foods)\n"
   ]
  },
  {
   "cell_type": "code",
   "execution_count": 18,
   "metadata": {},
   "outputs": [
    {
     "name": "stdout",
     "output_type": "stream",
     "text": [
      "The frist three items in the list are:\n",
      "[1, 2, 3]\n",
      "Three items from the middle of the list are:\n",
      "[4, 5, 6]\n",
      "The last three items in the list are:\n",
      "[8, 9, 0]\n",
      "['banana', 'apple', 'cherry ']\n",
      "My favorite pizzas are:\n",
      "banana\n",
      "apple\n",
      "cherry \n",
      "orange\n",
      "pineapple\n",
      "My friend's favorite pizzas are:\n",
      "banana\n",
      "apple\n",
      "cherry \n",
      "orange\n",
      "pineapple\n",
      "达利园.派\n",
      "六个核桃\n",
      "黄鹤楼\n",
      "冰淇淋\n"
     ]
    }
   ],
   "source": [
    "# 练习题3\n",
    "\n",
    "\n",
    "numbers = [1,2,3,4,5,6,7,8,9,0]\n",
    "\n",
    "\n",
    "print(\"The frist three items in the list are:\")\n",
    "print(numbers[:3])\n",
    "print(\"Three items from the middle of the list are:\")\n",
    "print(numbers[3:-4])\n",
    "print(\"The last three items in the list are:\")\n",
    "print(numbers[-3:])\n",
    "pizzas = ['banana','apple','cherry ']\n",
    "friend_pizzas = pizzas\n",
    "print(friend_pizzas)\n",
    "pizzas.append('orange')\n",
    "friend_pizzas.append('pineapple')\n",
    "print(\"My favorite pizzas are:\")\n",
    "for I in pizzas:\n",
    "    print(I)\n",
    "print(\"My friend's favorite pizzas are:\")\n",
    "for You in friend_pizzas:\n",
    "    print(You)\n",
    "my_foods = ['达利园.派', '六个核桃', '黄鹤楼','冰淇淋']\n",
    "for food in my_foods:\n",
    "    print(food)"
   ]
  },
  {
   "cell_type": "code",
   "execution_count": 23,
   "metadata": {},
   "outputs": [
    {
     "name": "stdout",
     "output_type": "stream",
     "text": [
      "200\n",
      "50\n",
      "200\n",
      "50\n",
      "Original dimenions:\n",
      "200\n",
      "50\n",
      "\n",
      "Modified dimensions:\n",
      "400\n",
      "100\n"
     ]
    }
   ],
   "source": [
    "# 元组\n",
    "dimensions = (200,50)\n",
    "print(dimensions[0])\n",
    "print(dimensions[1])\n",
    "for dimension in dimensions:\n",
    "    print(dimension)\n",
    "# 修改元组变量\n",
    "dimensions = (200,50)\n",
    "print(\"Original dimenions:\")\n",
    "for dimension in dimensions:\n",
    "    print(dimension)\n",
    "dimensions = (400,100)\n",
    "print(\"\\nModified dimensions:\")\n",
    "for dimension in dimensions:\n",
    "    print(dimension)"
   ]
  },
  {
   "cell_type": "code",
   "execution_count": 29,
   "metadata": {},
   "outputs": [
    {
     "name": "stdout",
     "output_type": "stream",
     "text": [
      "<class 'tuple'>\n",
      "炒菜\n",
      "<class 'tuple'>\n",
      "红烧\n",
      "<class 'tuple'>\n",
      "干锅\n",
      "<class 'tuple'>\n",
      "火锅\n",
      "<class 'tuple'>\n",
      "清蒸\n",
      "<class 'tuple'>\n",
      "炒菜\n",
      "<class 'tuple'>\n",
      "凉拌\n",
      "<class 'tuple'>\n",
      "干锅\n",
      "<class 'tuple'>\n",
      "卤菜\n",
      "<class 'tuple'>\n",
      "小吃\n"
     ]
    }
   ],
   "source": [
    "# 练习4\n",
    "buffets = ('炒菜','红烧','干锅','火锅','清蒸')\n",
    "for buffet in buffets:\n",
    "    print(type(buffets))\n",
    "    print(buffet)\n",
    "buffets = ('炒菜','凉拌','干锅','卤菜','小吃')\n",
    "for buffet in buffets:\n",
    "    print(type(buffets))\n",
    "    print(buffet)"
   ]
  },
  {
   "cell_type": "code",
   "execution_count": 42,
   "metadata": {},
   "outputs": [
    {
     "name": "stdout",
     "output_type": "stream",
     "text": [
      "26\n",
      "12.56\n"
     ]
    }
   ],
   "source": [
    "#Python编写C程序\n",
    "PAI = 3.14\n",
    "input(fRadius)\n",
    "fRadius = int(fRadius)\n",
    "fResult = fRadius*fRadius*PAI\n",
    "print(fResult)"
   ]
  }
 ],
 "metadata": {
  "kernelspec": {
   "display_name": "Python 3",
   "language": "python",
   "name": "python3"
  },
  "language_info": {
   "codemirror_mode": {
    "name": "ipython",
    "version": 3
   },
   "file_extension": ".py",
   "mimetype": "text/x-python",
   "name": "python",
   "nbconvert_exporter": "python",
   "pygments_lexer": "ipython3",
   "version": "3.6.4"
  }
 },
 "nbformat": 4,
 "nbformat_minor": 2
}
