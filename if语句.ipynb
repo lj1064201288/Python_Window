{
 "cells": [
  {
   "cell_type": "code",
   "execution_count": 28,
   "metadata": {},
   "outputs": [
    {
     "name": "stdout",
     "output_type": "stream",
     "text": [
      "Audi\n",
      "BMW\n",
      "Subaru\n",
      "Toyota\n",
      "Hold the anchovies!\n",
      "That is not the correct answer.Please try again!\n",
      "Marie, you can post a response if you wish.\n"
     ]
    }
   ],
   "source": [
    "#一个简单的示例\n",
    "cars  = ['audi','bmw','subaru','toyota']\n",
    "\n",
    "for car in cars:\n",
    "    if car == 'bmw':\n",
    "        print(car.upper())\n",
    "    else:\n",
    "        print(car.title())\n",
    "car = 'bmw'\n",
    "car =='bmw'\n",
    "car = 'audi'\n",
    "car == 'bmw'\n",
    "car = 'Audi'\n",
    "car.lower() =='audi'\n",
    "car\n",
    "# 检查是否不相等\n",
    "requested_topping = 'mushrooms'\n",
    "\n",
    "if requested_topping != 'anchovies':\n",
    "    print(\"Hold the anchovies!\")\n",
    "# 比较字数\n",
    "age = 18\n",
    "age == 18\n",
    "answer = 17\n",
    "if answer != 42:\n",
    "    print(\"That is not the correct answer.Please try again!\")\n",
    "age = 19\n",
    "age < 21\n",
    "age <= 21\n",
    "age > 21\n",
    "age >= 21\n",
    "# 使用and检查多个条件\n",
    "age_0 = 22\n",
    "age_1 = 18\n",
    "age_0 >= 21 and age_1 >= 21\n",
    "age_1 = 22\n",
    "age_0 >= 21 and age_1 >= 21\n",
    "(age_0 >= 21) and (age_1 >= 21)\n",
    "#使用or检查多个条件\n",
    "age_0 = 22\n",
    "age_1 = 18\n",
    "age_0 >=21 or age_1 >= 21\n",
    "age_0 = 18\n",
    "age_0 >= 21 or age_1 >= 21\n",
    "#检查特定值是否包含在列表中\n",
    "requested_toppings = ['mushrooms', 'onions', 'pineapple']\n",
    "'mushrooms' in requested_toppings\n",
    "'pepperoni' in requested_toppings\n",
    "#检查特定值是否不包含在列表中\n",
    "banned_users = ['andrew', 'carolina', 'david']\n",
    "user = 'marie'\n",
    "\n",
    "if user not in banned_users:\n",
    "    print(user.title() + \", you can post a response if you wish.\")\n",
    "#布尔表达式\n",
    "game_active = True\n",
    "can_edit = False"
   ]
  },
  {
   "cell_type": "code",
   "execution_count": 41,
   "metadata": {},
   "outputs": [
    {
     "name": "stdout",
     "output_type": "stream",
     "text": [
      "True\n",
      "False\n",
      "True\n",
      "False\n",
      "True\n",
      "False\n",
      "True\n",
      "False\n",
      "True\n",
      "False\n",
      "std\n",
      "num\n",
      "value\n",
      "scanf\n",
      "printf\n",
      "auto\n",
      "switch\n",
      "fun\n",
      "fseek\n",
      "fopen\n"
     ]
    }
   ],
   "source": [
    "#练习题1\n",
    "numbers = [1,2,3,4,5,6,7,8,9,0]\n",
    "for num in numbers:\n",
    "    if num == 3:\n",
    "        print(num == 3)\n",
    "    if num == 5:\n",
    "        print(num == 5)\n",
    "    if num == 7:\n",
    "        print(num == 7)\n",
    "    if num == 9:\n",
    "        print(num == 9)\n",
    "    if num == 1:\n",
    "        print(num == 1)\n",
    "    if num == 2:\n",
    "        print(num == 1)\n",
    "    if num == 4:\n",
    "        print(num == 3)\n",
    "    if num == 6:\n",
    "        print(num == 5)\n",
    "    if num == 8:\n",
    "        print(num == 7)\n",
    "    if num == 0:\n",
    "        print(num == 9)\n",
    "conditional_test = ['std','num','value','scanf','printf','auto','switch','fun','fseek','fopen']\n",
    "num = 0\n",
    "for conditional in conditional_test:\n",
    "    conditional == conditional\n",
    "    num += 1\n",
    "    print(conditional.lower())\n",
    "    if num == 10:\n",
    "        break"
   ]
  },
  {
   "cell_type": "code",
   "execution_count": 6,
   "metadata": {},
   "outputs": [
    {
     "name": "stdout",
     "output_type": "stream",
     "text": [
      "玩家获得5个点!\n",
      "玩家获得10个点!\n",
      "玩家获得15个点\n",
      "他是老年人!\n",
      "他是老年人!\n",
      "他是老年人!\n",
      "他是婴儿!\n",
      "他是儿童!\n",
      "他是婴儿!\n",
      "该用户已经被注册!\n",
      "该用户可以注册！\n",
      "该用户可以注册！\n",
      "该用户已经被注册!\n",
      "该用户可以注册！\n"
     ]
    }
   ],
   "source": [
    "# 练习题1\n",
    "alien_color = ['green','yellow','red']\n",
    "for alien in alien_color:\n",
    "    if alien == 'green':\n",
    "        print(\"玩家获得5个点!\")\n",
    "    elif alien == 'yellow':\n",
    "        print(\"玩家获得10个点!\")\n",
    "    else:\n",
    "        print(\"玩家获得15个点\")\n",
    "\n",
    "age = [12,14,78,65,23,45,84,56,5,9,1,24,64,35,4,44,36,18,25,27,1,6]\n",
    "for old in age:\n",
    "    if old < 2:\n",
    "        print(\"他是婴儿!\")\n",
    "    elif old == 2 and old < 4:\n",
    "        print(\"他正在学步!\")\n",
    "    elif old == 4 and old < 13:\n",
    "        print(\"他是儿童!\")\n",
    "    elif old == 13 and old < 20:\n",
    "        print(\"他是青少年!\")\n",
    "    elif old == 20 and old < 65:\n",
    "        print(\"他是成年人!\")\n",
    "    elif old >= 65:\n",
    "        print(\"他是老年人!\")\n",
    "current_users = ['uaxs','awfaw','asdasfc','oiwek','qlkasd']\n",
    "new_users = ['uaxs','ashacc','asd','oiwek','qdsfsd']\n",
    "for current_user in current_users:\n",
    "    if current_user in new_users:\n",
    "        print(\"该用户已经被注册!\")\n",
    "    else:\n",
    "        print(\"该用户可以注册！\")"
   ]
  },
  {
   "cell_type": "code",
   "execution_count": 14,
   "metadata": {},
   "outputs": [
    {
     "name": "stdout",
     "output_type": "stream",
     "text": [
      "2550\n"
     ]
    }
   ],
   "source": [
    "numbers = [1,101]\n",
    "num = 0\n",
    "for number in range(1,101):\n",
    "    if number%2 == 0:\n",
    "        num += number\n",
    "print(num)"
   ]
  }
 ],
 "metadata": {
  "kernelspec": {
   "display_name": "Python 3",
   "language": "python",
   "name": "python3"
  },
  "language_info": {
   "codemirror_mode": {
    "name": "ipython",
    "version": 3
   },
   "file_extension": ".py",
   "mimetype": "text/x-python",
   "name": "python",
   "nbconvert_exporter": "python",
   "pygments_lexer": "ipython3",
   "version": "3.6.4"
  }
 },
 "nbformat": 4,
 "nbformat_minor": 2
}
